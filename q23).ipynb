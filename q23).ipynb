{
  "nbformat": 4,
  "nbformat_minor": 0,
  "metadata": {
    "colab": {
      "name": "q23).ipynb",
      "provenance": [],
      "authorship_tag": "ABX9TyPY7fZnh+iYXNSJPxeaaIiD",
      "include_colab_link": true
    },
    "kernelspec": {
      "name": "python3",
      "display_name": "Python 3"
    },
    "language_info": {
      "name": "python"
    }
  },
  "cells": [
    {
      "cell_type": "markdown",
      "metadata": {
        "id": "view-in-github",
        "colab_type": "text"
      },
      "source": [
        "<a href=\"https://colab.research.google.com/github/Anuragpande616/Assignment-1-Basic-statistics_1/blob/main/q23).ipynb\" target=\"_parent\"><img src=\"https://colab.research.google.com/assets/colab-badge.svg\" alt=\"Open In Colab\"/></a>"
      ]
    },
    {
      "cell_type": "code",
      "execution_count": null,
      "metadata": {
        "id": "9h-KTYe_Pi4y"
      },
      "outputs": [],
      "source": [
        "from scipy import stats\n",
        "from scipy.stats import norm"
      ]
    },
    {
      "cell_type": "code",
      "source": [
        "## t scores of 95% confidence interval for sample size of 25\n",
        "# degree of freedom = n-1 = 24\n",
        "stats.t.ppf(0.975,24)"
      ],
      "metadata": {
        "colab": {
          "base_uri": "https://localhost:8080/"
        },
        "id": "4_ytv3gZPtYR",
        "outputId": "a67c45a1-394a-43dc-dbb5-5b6f076cbf37"
      },
      "execution_count": null,
      "outputs": [
        {
          "output_type": "execute_result",
          "data": {
            "text/plain": [
              "2.0638985616280205"
            ]
          },
          "metadata": {},
          "execution_count": 2
        }
      ]
    },
    {
      "cell_type": "code",
      "source": [
        "## t scores of 96% confidence interval for sample size of 25\n",
        "stats.t.ppf(0.98,24)"
      ],
      "metadata": {
        "colab": {
          "base_uri": "https://localhost:8080/"
        },
        "id": "KqOk60jsPyS0",
        "outputId": "b0bce69c-267a-4a8a-99fc-474c8cbe2b29"
      },
      "execution_count": null,
      "outputs": [
        {
          "output_type": "execute_result",
          "data": {
            "text/plain": [
              "2.1715446760080677"
            ]
          },
          "metadata": {},
          "execution_count": 3
        }
      ]
    },
    {
      "cell_type": "code",
      "source": [
        "## t scores of 99% confidence interval for sample size of 25\n",
        "stats.t.ppf(0.995,24)"
      ],
      "metadata": {
        "colab": {
          "base_uri": "https://localhost:8080/"
        },
        "id": "xsEPzcOMP0GM",
        "outputId": "082def30-f51d-41d2-e930-46795c2a971c"
      },
      "execution_count": null,
      "outputs": [
        {
          "output_type": "execute_result",
          "data": {
            "text/plain": [
              "2.796939504772804"
            ]
          },
          "metadata": {},
          "execution_count": 4
        }
      ]
    }
  ]
}