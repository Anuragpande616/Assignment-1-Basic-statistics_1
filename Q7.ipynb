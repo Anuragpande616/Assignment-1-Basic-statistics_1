{
  "nbformat": 4,
  "nbformat_minor": 0,
  "metadata": {
    "colab": {
      "name": "Q7.ipynb",
      "provenance": [],
      "collapsed_sections": [],
      "authorship_tag": "ABX9TyMg606Zgrc3X+e6Ft3ooKoa",
      "include_colab_link": true
    },
    "kernelspec": {
      "name": "python3",
      "display_name": "Python 3"
    },
    "language_info": {
      "name": "python"
    }
  },
  "cells": [
    {
      "cell_type": "markdown",
      "metadata": {
        "id": "view-in-github",
        "colab_type": "text"
      },
      "source": [
        "<a href=\"https://colab.research.google.com/github/Anuragpande616/Assignment-1-Basic-statistics_1/blob/main/Q7.ipynb\" target=\"_parent\"><img src=\"https://colab.research.google.com/assets/colab-badge.svg\" alt=\"Open In Colab\"/></a>"
      ]
    },
    {
      "cell_type": "code",
      "execution_count": null,
      "metadata": {
        "id": "29VPuI19cDJx"
      },
      "outputs": [],
      "source": [
        "import numpy as np\n",
        "import pandas as pd\n",
        "import matplotlib.pyplot as plt\n",
        "import seaborn as sns\n"
      ]
    },
    {
      "cell_type": "code",
      "source": [
        "df=pd.read_csv(\"/content/sample_data/Q7 (1).csv\")\n",
        "df=df.dropna()"
      ],
      "metadata": {
        "id": "4ldEZzuMcWBn"
      },
      "execution_count": null,
      "outputs": []
    },
    {
      "cell_type": "code",
      "source": [
        "df"
      ],
      "metadata": {
        "id": "8wpKS6LUc9LN"
      },
      "execution_count": null,
      "outputs": []
    },
    {
      "cell_type": "code",
      "source": [
        "mean = df.mean()\n",
        "print(mean)"
      ],
      "metadata": {
        "id": "McHH9lwTdBom"
      },
      "execution_count": null,
      "outputs": []
    },
    {
      "cell_type": "code",
      "source": [
        "median = df.median()\n",
        "print(median)"
      ],
      "metadata": {
        "id": "BRUCH9T6dKSI"
      },
      "execution_count": null,
      "outputs": []
    },
    {
      "cell_type": "code",
      "source": [
        "mode = df.mode()\n",
        "print(mode)"
      ],
      "metadata": {
        "id": "xdtExmj4dNm8"
      },
      "execution_count": null,
      "outputs": []
    },
    {
      "cell_type": "code",
      "source": [
        "df.Points.mode()"
      ],
      "metadata": {
        "id": "TP7AT2JydSW8"
      },
      "execution_count": null,
      "outputs": []
    },
    {
      "cell_type": "code",
      "source": [
        "df.Score.mode()"
      ],
      "metadata": {
        "id": "l-hIgwPadguT"
      },
      "execution_count": null,
      "outputs": []
    },
    {
      "cell_type": "code",
      "source": [
        "df.Weigh.mode()"
      ],
      "metadata": {
        "id": "C3bE8A6YdhMn"
      },
      "execution_count": null,
      "outputs": []
    },
    {
      "cell_type": "code",
      "source": [
        "df.Points.mean()"
      ],
      "metadata": {
        "id": "KKFLZ5u2dyUi"
      },
      "execution_count": null,
      "outputs": []
    },
    {
      "cell_type": "code",
      "source": [
        "df.Score.mean()"
      ],
      "metadata": {
        "id": "5wrG1Kpud4JT"
      },
      "execution_count": null,
      "outputs": []
    },
    {
      "cell_type": "code",
      "source": [
        "df.Weigh.mean()"
      ],
      "metadata": {
        "id": "DV7hymcOd4fg"
      },
      "execution_count": null,
      "outputs": []
    },
    {
      "cell_type": "code",
      "source": [
        "df.Points.median()"
      ],
      "metadata": {
        "id": "FfcrvPrRd5Ui"
      },
      "execution_count": null,
      "outputs": []
    },
    {
      "cell_type": "code",
      "source": [
        "df.Score.median()"
      ],
      "metadata": {
        "id": "qyGr32Gid5kw"
      },
      "execution_count": null,
      "outputs": []
    },
    {
      "cell_type": "code",
      "source": [
        "df.Weigh.median()"
      ],
      "metadata": {
        "id": "-0hhiVKzeB9A"
      },
      "execution_count": null,
      "outputs": []
    },
    {
      "cell_type": "code",
      "source": [
        "df.var"
      ],
      "metadata": {
        "id": "agUoA2lBexum"
      },
      "execution_count": null,
      "outputs": []
    },
    {
      "cell_type": "code",
      "source": [
        "df.std"
      ],
      "metadata": {
        "id": "MJHwv-W0e1Jz"
      },
      "execution_count": null,
      "outputs": []
    },
    {
      "cell_type": "code",
      "source": [
        "df.describe"
      ],
      "metadata": {
        "id": "3B6O0i0ee2cM"
      },
      "execution_count": null,
      "outputs": []
    },
    {
      "cell_type": "code",
      "source": [
        "Points_Range=df.Points.max()-df.Points.min()\n",
        "Points_Range"
      ],
      "metadata": {
        "id": "GkGseHvNfDZl"
      },
      "execution_count": null,
      "outputs": []
    },
    {
      "cell_type": "code",
      "source": [
        "Score_Range=df.Score.max()-df.Score.min()\n",
        "Score_Range"
      ],
      "metadata": {
        "id": "pluuwtFkfNBE"
      },
      "execution_count": null,
      "outputs": []
    },
    {
      "cell_type": "code",
      "source": [
        "Weigh_Range=df.Weigh.max()-df.Weigh.min()\n",
        "Weigh_Range"
      ],
      "metadata": {
        "id": "AF-1gbTYfNaT"
      },
      "execution_count": null,
      "outputs": []
    },
    {
      "cell_type": "code",
      "source": [
        "f,ax=plt.subplots(figsize=(15,5))\n",
        "plt.subplot(1,3,1)\n",
        "plt.boxplot(df.Points)\n",
        "plt.title('Pointss')\n",
        "plt.subplot(1,3,2)\n",
        "plt.boxplot(df.Score)\n",
        "plt.title('Score')\n",
        "plt.subplot(1,3,3)\n",
        "plt.boxplot(df.Weigh)\n",
        "plt.title('Weigh')\n",
        "plt.show()"
      ],
      "metadata": {
        "id": "tLKkcTVffiu3"
      },
      "execution_count": null,
      "outputs": []
    },
    {
      "cell_type": "code",
      "source": [
        ""
      ],
      "metadata": {
        "id": "00OlLMHRhbSb"
      },
      "execution_count": null,
      "outputs": []
    }
  ]
}